{
 "cells": [
  {
   "cell_type": "markdown",
   "id": "575e7e55-5fd6-4ef6-bd46-a869543f4d52",
   "metadata": {},
   "source": [
    "# Data Extraction\n",
    "\n",
    "This notebook handles the loading, cleaning, and initial structuring of data from the zebrafish behavioral study for further analysis\r\n"
   ]
  },
  {
   "cell_type": "markdown",
   "id": "9d9dc5ba-db1e-4d7c-82ef-bd8703c176df",
   "metadata": {},
   "source": [
    "## Brief Documentation"
   ]
  },
  {
   "cell_type": "markdown",
   "id": "453a644c-27ee-4ca5-b366-0b8f1b2bc6db",
   "metadata": {},
   "source": [
    "**General:**\n",
    "- **fish_id**: Unique identifier for each fish.\n",
    "- **battery_suite**: Identifies each battery suite. For further documentation, check \"Defining Battery Suites\" section.\n",
    "- **group**: Groupes fish by treatment and exposure simultaneously.\n",
    "- **date**: Date of the experiment.\n",
    "- **start_time**: Exact time each fish started the battery suite.\n",
    "- **treatment**: Concentration of ethanol in percentage (0%, 0.5% and 1%).\n",
    "- **exposure**: Duration in hours fish were exposed to ethanol.\n",
    "\n",
    "**Light-Dark Box Parameters:**\n",
    "- **latency**: Time it took for the fish to choose between bright or dark environment.\n",
    "- **first_choice**: Where the fish decided to go first. Legend is: \"C\" stands for \"Claro\" (bright) and \"E\" for \"Escuro\" (dark).\n",
    "- **num_changes**: Number of times fish switched between bright and dark environments.\n",
    "- **time_bright**: Total time (in seconds) spent in the bright.\n",
    "- **mtpc** a.k.a **\"Mean Time Per Change\"**: average time (in seconds) fish spent on the bright environment per time it went there.\n",
    "\n",
    "**Novel Tank Parameters:**\n",
    "- **mov_bottom**: Time (in sec) the fish explored the bottom zone of the tank.\n",
    "- **mov_upper**: Time (in sec) the fish explored the upper zone of the tank.\n",
    "- **mov_total**: Total time (in sec) the fish explored the tank (derived).\n",
    "- **dist_bottom**: Distance (in cm) traveled in the bottom zone.\n",
    "- **dist_upper**: Distance (in cm) traveled in the upper zone.\n",
    "- **dist_total**: Total distance (in cm) traveled by the fish during novel tank test.\n",
    "- **vel_bottom**: Average velocity (cm/s) in the bottom zone.\n",
    "- **vel_upper**: Average velocity (cm/s) in the upper.\n",
    "- **vel_mean**: Average velocity (cm/s) overall during the novel tank test.\n",
    "\n",
    "**Endurance Test Parameters:**\n",
    "- **attempts**: Number of attempts to respond and resist the first water flow.\n",
    "- **last_flux**: Last flow rate (L/min) the fish sustained.\n",
    "- **time_in_last_flux**: Time (in seconds) spent enduring the last flow rate.\n",
    "- **resistance_index**: Indicates performance of the fish in the endurance test. For further information, check next sections.\n",
    "\n",
    "**Physiology and Biometrics:**\n",
    "- **lt**: Total length of the fish (in cm).\n",
    "- **ls** a.k.a **Length Standard**: Length (in cm) of the physiologically active part of the fish body, it excludes tail length.\n",
    "- **wt**: Weight of the fish (in grams).\n",
    "- **Kc** a.k.a **Fulton’s Condition Factor**: An index that reflects fish nutritional state.\n",
    "- **sex**: Biological sex of the fish (male, female, or undetermined).\n",
    "- **blood_sugar**: Blood glucose levels (in mg/dL) measured right after the end of the battery suite.\n",
    "\n",
    "**Physicochemical:**\n",
    "- **conductivity**: Water conductivity (in µS/cm) measured in exposure and nesting tanks.\n",
    "- **pH**: pH of water in exposure and nesting tanks."
   ]
  },
  {
   "cell_type": "markdown",
   "id": "a28e82b0-7922-46f1-940c-2aa15f1a7879",
   "metadata": {
    "jp-MarkdownHeadingCollapsed": true
   },
   "source": [
    "## Summary of Dataframes:"
   ]
  },
  {
   "cell_type": "markdown",
   "id": "3ea768b8-dc54-462e-919a-f6de6bf5ec94",
   "metadata": {},
   "source": [
    "- **draft:** original dataframe containing all data collected\n",
    "- **draft1:** dataframe for battery suite 1\n",
    "- **draft2:** dataframe for battery suite 2\n",
    "- **draft3:** dataframe for battery suite 3"
   ]
  },
  {
   "cell_type": "markdown",
   "id": "935d2f3b-d012-43c9-a8cf-9be42a311f2d",
   "metadata": {},
   "source": [
    "## Libraries and Settings"
   ]
  },
  {
   "cell_type": "code",
   "execution_count": 1,
   "id": "96a61974-9c76-45a5-a7e0-dd7ba865c4c2",
   "metadata": {},
   "outputs": [],
   "source": [
    "# Libraries 📚 \n",
    "import os\n",
    "import numpy as np\n",
    "import pandas as pd\n",
    "import re\n",
    "\n",
    "# Settings ⚙️ \n",
    "pd.set_option('display.max_columns', None)"
   ]
  },
  {
   "cell_type": "markdown",
   "id": "d50132ce-86f1-4335-80d4-71c4dccf572f",
   "metadata": {},
   "source": [
    "## Functions"
   ]
  },
  {
   "cell_type": "code",
   "execution_count": 2,
   "id": "6e46baa1-d291-45d0-9258-13dd0e37fce6",
   "metadata": {},
   "outputs": [],
   "source": [
    "def resistance_index(row):    \n",
    "    if pd.isna(row['last_flux']) or pd.isna(row['time_in_last_flux']):\n",
    "        return None\n",
    "    flux_sum = sum(range(1, int(row['last_flux'])))\n",
    "    last_flux_weight = row['last_flux'] * row['time_in_last_flux'] / 60    \n",
    "    return flux_sum + last_flux_weight\n",
    "\n",
    "\n",
    "\n",
    "def vel_mean(row):\n",
    "    if pd.isna(row['vel_bottom']) and pd.isna(row['vel_upper']):\n",
    "        return 0\n",
    "    elif row['vel_bottom'] == 0 or pd.isna(row['vel_bottom']):\n",
    "        return row['vel_upper']\n",
    "    elif row['vel_upper'] == 0 or pd.isna(row['vel_upper']):\n",
    "        return row['vel_bottom']\n",
    "    else:\n",
    "        return (row['vel_bottom'] + row['vel_upper']) / 2\n",
    "\n",
    "def get_mtpc(row):\n",
    "    if row['time_bright'] == 0:\n",
    "        return 0\n",
    "    elif row['num_changes'] == 0:\n",
    "        return row['time_bright']\n",
    "    else:\n",
    "        return row['time_bright'] / row['num_changes']\n",
    "\n",
    "\n",
    "\n",
    "def drop_fish(df, fish_id):\n",
    "    return df.drop(df[df['fish_id'] == fish_id].index)        "
   ]
  },
  {
   "cell_type": "markdown",
   "id": "044e3485-a663-4b16-a77f-c16f159ba672",
   "metadata": {},
   "source": [
    "## Extracting the Data"
   ]
  },
  {
   "cell_type": "code",
   "execution_count": 3,
   "id": "410121ce-27aa-4841-866c-78ee76371c10",
   "metadata": {},
   "outputs": [],
   "source": [
    "draft = pd.read_csv('masters_data.csv')"
   ]
  },
  {
   "cell_type": "code",
   "execution_count": 4,
   "id": "a83d6219-4636-4d0e-a608-7c57a130d7f3",
   "metadata": {},
   "outputs": [],
   "source": [
    "draft['datetime'] = draft.date + ' ' + draft.start_time\n",
    "draft['datetime'] = draft['datetime'].apply(lambda x: re.sub(r'\\s+', '', str(x)))\n",
    "draft['datetime'] = draft['datetime'].apply(lambda x: x[:10] + ' ' + x[10:] if isinstance(x, str) else x)\n",
    "draft.loc[:277, 'datetime'] = pd.to_datetime(draft.loc[:277, 'datetime'])\n",
    "draft = draft.drop(columns=['date', 'start_time'])\n",
    "datetime_col = draft.pop('datetime')\n",
    "draft.insert(5, 'datetime', datetime_col)"
   ]
  },
  {
   "cell_type": "code",
   "execution_count": 5,
   "id": "d89f8e06-76bb-42db-8d7b-5502ea73b874",
   "metadata": {},
   "outputs": [],
   "source": [
    "clean_first_choice = {\n",
    "    'C' : 'bright',\n",
    "    'E' : 'dark'\n",
    "}\n",
    "\n",
    "draft.first_choice = draft.first_choice.replace(clean_first_choice)"
   ]
  },
  {
   "cell_type": "code",
   "execution_count": 6,
   "id": "09b08182-4f92-4593-8554-65a7a2777013",
   "metadata": {},
   "outputs": [],
   "source": [
    "clean_group = {\n",
    " '96h_CTR': '96h_0.0',\n",
    " '24h_CTR': '24h_0.0',\n",
    " '01h_CTR': '01h_0.0',\n",
    " '1h_CTR': '01h_0.0',\n",
    " '1h_0.5' : '01h_0.5',\n",
    " '1h_1.0' : '01h_1.0'}\n",
    "\n",
    "draft.group = draft.group.replace(clean_group)"
   ]
  },
  {
   "cell_type": "code",
   "execution_count": 7,
   "id": "5a949cda-b324-44d8-b503-d28e7a92c695",
   "metadata": {},
   "outputs": [],
   "source": [
    "clean_group_2 = {\n",
    "    '01h_0.0': '01h 0.0%',\n",
    "    '01h_0.5': '01h 0.5%',\n",
    "    '01h_1.0': '01h 1.0%',\n",
    "    '24h_0.0' : '24h 0.0%',\n",
    "    '24h_0.5' : '24h 0.5%',\n",
    "    '24h_1.0' : '24h 1.0%',\n",
    "    '96h_0.0' : '96h 0.0%',\n",
    "    '96h_0.5' : '96h 0.5%',\n",
    "    '96h_1.0' : '96h 1.0%'\n",
    "}\n",
    "\n",
    "draft.group = draft.group.replace(clean_group_2)"
   ]
  },
  {
   "cell_type": "code",
   "execution_count": 8,
   "id": "6312971f-7d92-416a-8a0e-8286c0d5a120",
   "metadata": {},
   "outputs": [],
   "source": [
    "clean_sex = {\n",
    "    'm' : 'male',\n",
    "    'f' : 'female'\n",
    "}\n",
    "\n",
    "draft.sex = draft.sex.replace(clean_sex)"
   ]
  },
  {
   "cell_type": "code",
   "execution_count": 9,
   "id": "1c170024-a756-4434-a08e-6f9c92bb9cf3",
   "metadata": {},
   "outputs": [],
   "source": [
    "draft['sex'] = draft['sex'].fillna('unidentified')"
   ]
  },
  {
   "cell_type": "code",
   "execution_count": 59,
   "id": "c2791b24-9d8d-43a9-b856-03619cc252ce",
   "metadata": {},
   "outputs": [
    {
     "data": {
      "text/plain": [
       "(414, 32)"
      ]
     },
     "execution_count": 59,
     "metadata": {},
     "output_type": "execute_result"
    }
   ],
   "source": [
    "draft.shape"
   ]
  },
  {
   "cell_type": "markdown",
   "id": "9d850385-1661-4c2f-bd54-53163b412c35",
   "metadata": {},
   "source": [
    "## Creating Derivated Parameters"
   ]
  },
  {
   "cell_type": "markdown",
   "id": "98f8571a-29a2-4e04-a040-4738ab3f5c17",
   "metadata": {},
   "source": [
    "- `mtpc` = `time_bright` / `num_changes`\n",
    "  \n",
    "- `mov_total` = `mov_bottom` + `mov_upper`\n",
    "  \n",
    "- `dist_total` = `dist_bottom` + `dist_upper`\n",
    "  \n",
    "- `vel_bottom` = `dist_bottom` / `dist_upper`\n",
    "  \n",
    "- `vel_upper` = `dist_upper` / `mov_upper`\n",
    "  \n",
    "- `vel_total` = (`vel_bottom` + `vel_upper`) / 2"
   ]
  },
  {
   "cell_type": "code",
   "execution_count": 10,
   "id": "4243bada-4e6d-4f63-a2df-a9f48d792c2f",
   "metadata": {},
   "outputs": [],
   "source": [
    "draft['mtpc'] = draft.apply(get_mtpc, axis=1)"
   ]
  },
  {
   "cell_type": "code",
   "execution_count": 11,
   "id": "3a3887ce-8a59-44aa-925f-1e5abf1c0266",
   "metadata": {},
   "outputs": [],
   "source": [
    "draft['mov_total'] = draft.mov_bottom + draft.mov_upper"
   ]
  },
  {
   "cell_type": "code",
   "execution_count": 12,
   "id": "81d5004b-d535-4bef-b7ad-bf6c09f85456",
   "metadata": {},
   "outputs": [],
   "source": [
    "draft['dist_total'] = draft.dist_bottom + draft.dist_upper"
   ]
  },
  {
   "cell_type": "code",
   "execution_count": 13,
   "id": "8d76c9bf-a614-4e83-8534-175c07a6acb0",
   "metadata": {},
   "outputs": [],
   "source": [
    "draft['vel_bottom'] = draft.dist_bottom / draft.mov_bottom"
   ]
  },
  {
   "cell_type": "code",
   "execution_count": 14,
   "id": "5060b96b-f7b1-4ff8-8111-81b3f0049351",
   "metadata": {},
   "outputs": [],
   "source": [
    "draft['vel_upper'] = draft.dist_upper / draft.mov_upper"
   ]
  },
  {
   "cell_type": "code",
   "execution_count": 15,
   "id": "7aea56ec-2822-4708-bdf0-85ab7a4f7345",
   "metadata": {},
   "outputs": [],
   "source": [
    "draft['vel_mean'] = draft.apply(vel_mean, axis=1)"
   ]
  },
  {
   "cell_type": "markdown",
   "id": "70b6ebcb-4fab-4c68-bacd-a86870944417",
   "metadata": {},
   "source": [
    "### Fulton's Condition Factor"
   ]
  },
  {
   "cell_type": "markdown",
   "id": "f5765f52-2d48-4c15-bdbf-315dd6e0c7f5",
   "metadata": {},
   "source": [
    "The **Fulton's Condition Factor** $(K_c)$ is a measure used to assess the health and well-being of fish based on their weight and length. It points out to the fish's nutritional status and general condition, reflecting if they are, for example, underweight, well-fed, or obese.\n",
    "\n",
    "$$\n",
    "Factor = \\frac{Weigth}{Length^3} \\times 100\n",
    "$$"
   ]
  },
  {
   "cell_type": "code",
   "execution_count": 16,
   "id": "a13b8b46-52eb-436d-b9fe-88a8f6ccddc8",
   "metadata": {},
   "outputs": [],
   "source": [
    "# Fulton's Condition Factor (Kc)\n",
    "draft['Kc'] = (draft['wt'] / (draft['ls'] ** 3)) * 100"
   ]
  },
  {
   "cell_type": "markdown",
   "id": "d3484712-348f-4105-8bc4-5ec77ac13e90",
   "metadata": {},
   "source": [
    "### Resistance Index"
   ]
  },
  {
   "cell_type": "markdown",
   "id": "dad74f10-5509-44a1-8f7b-fe7945f300de",
   "metadata": {},
   "source": [
    "The **Resistance Index** is a measure of a fish's ability to swim against a water current. It reflects the fish's stamina and resistance to the flow of water. The test involves gradually increasing water flow and recording how long the fish can maintain swimming against it. The index is calculated by summing the fluxes the fish can resist and adding a weighted contribution from the last flux sustained by the fish.\n",
    "\n",
    "$$\n",
    "SRI = \\sum \\text{fluxes sustained for a whole minute} + \\left( \\text{last flux} \\times \\frac{\\text{time in last flux (s)}}{60} \\right)\n",
    "$$"
   ]
  },
  {
   "cell_type": "code",
   "execution_count": 17,
   "id": "d59e51e5-4cca-45b9-b642-662a97d4dcb6",
   "metadata": {},
   "outputs": [],
   "source": [
    "draft['resistance_index'] = draft.apply(resistance_index, axis=1)"
   ]
  },
  {
   "cell_type": "markdown",
   "id": "ae47ac07-b4fc-4125-8c6f-480a27150e68",
   "metadata": {},
   "source": [
    "## Defining Battery Suites"
   ]
  },
  {
   "cell_type": "markdown",
   "id": "fbedfba6-cda5-41e9-813c-dcd0f9d05e0f",
   "metadata": {},
   "source": [
    "- **Battery Suite 1 (BT1)** consists of three tests: light/dark box, novel tank, and resistance test. These tests are applied sequentially to assess anxiety-like behaviors, locomotor activity and physical endurance.\n",
    "  \n",
    "- **Battery Suite 2 (BT2)** changes the order of the first two tests from BT1. The novel tank test is performed first, followed by the light/dark box test. This sequence is designed to check the performance of the novel tank test as a standalone measure and the light/dark box test as a sequential test, examining how previous test exposure influences behavior.\n",
    "  \n",
    "- **Battery Suite 3 (BT3)** focuses solely on the resistance test. This suite is designed to compare the performance of the resistance test when it is conducted alone, as opposed to being part of the full suite in BT1, allowing for a clearer understanding of its impact when not influenced by the previous tests."
   ]
  },
  {
   "cell_type": "code",
   "execution_count": 18,
   "id": "3db19edd-9981-4291-84d2-065d3f049264",
   "metadata": {},
   "outputs": [],
   "source": [
    "draft1 = draft[draft['battery_suite'] == 1]"
   ]
  },
  {
   "cell_type": "code",
   "execution_count": 19,
   "id": "dcd08505-786b-4e90-86fb-7bfc9cc32417",
   "metadata": {},
   "outputs": [],
   "source": [
    "# dropping redundant column\n",
    "draft1 = draft1.drop(columns='battery_suite')"
   ]
  },
  {
   "cell_type": "code",
   "execution_count": 20,
   "id": "66aebb09-e462-4b3c-a537-f12c7a20403d",
   "metadata": {},
   "outputs": [],
   "source": [
    "draft2 = draft[draft['battery_suite'] == 2]"
   ]
  },
  {
   "cell_type": "code",
   "execution_count": 21,
   "id": "9305fcee-1c0c-4963-8956-1959df6e4865",
   "metadata": {},
   "outputs": [],
   "source": [
    "# parameters from Resistance Index must be dropped from battery suite 2\n",
    "draft2 = draft2.drop(columns=['battery_suite', 'attempts', 'last_flux', 'time_in_last_flux', 'resistance_index'])"
   ]
  },
  {
   "cell_type": "code",
   "execution_count": 22,
   "id": "4fd05af8-81ad-4cd3-bad5-075ebdc05835",
   "metadata": {},
   "outputs": [],
   "source": [
    "draft3 = draft[draft['battery_suite'] == 3]"
   ]
  },
  {
   "cell_type": "code",
   "execution_count": 23,
   "id": "f668b7a9-7a61-41a4-aed0-de804522117b",
   "metadata": {},
   "outputs": [],
   "source": [
    "# addressing battery suite 3 competent columns\n",
    "draft3 = draft3[['fish_id', 'group', 'treatment', 'exposure', 'attempts', 'last_flux', 'time_in_last_flux', 'resistance_index', 'lt', 'ls', 'wt', 'Kc', 'sex', 'blood_sugar']]"
   ]
  },
  {
   "cell_type": "markdown",
   "id": "34c67230-f937-4fa5-8a02-8fc409b276b9",
   "metadata": {},
   "source": [
    "# Initial Cleaning and Structuring"
   ]
  },
  {
   "cell_type": "markdown",
   "id": "c754cde0-186b-44ec-859b-f5c4ff8fe899",
   "metadata": {},
   "source": [
    "## Checking and Addressing NaN values"
   ]
  },
  {
   "cell_type": "markdown",
   "id": "4288b975-d753-48d5-a853-0fda02f426e2",
   "metadata": {},
   "source": [
    "### Battery Suite 1"
   ]
  },
  {
   "cell_type": "code",
   "execution_count": 24,
   "id": "085aa0fc-719a-4f46-9174-06da0b2d8a8f",
   "metadata": {},
   "outputs": [
    {
     "data": {
      "text/plain": [
       "fish_id               0\n",
       "group                 0\n",
       "treatment             0\n",
       "exposure              0\n",
       "datetime              0\n",
       "latency               1\n",
       "first_choice          1\n",
       "num_changes           2\n",
       "time_bright           2\n",
       "mtpc                  2\n",
       "mov_bottom            1\n",
       "mov_upper             1\n",
       "mov_total             1\n",
       "dist_bottom           1\n",
       "dist_upper            1\n",
       "dist_total            1\n",
       "vel_bottom            5\n",
       "vel_upper            11\n",
       "vel_mean              0\n",
       "attempts              1\n",
       "last_flux             1\n",
       "time_in_last_flux     1\n",
       "resistance_index      1\n",
       "lt                    0\n",
       "ls                    0\n",
       "wt                    0\n",
       "Kc                    0\n",
       "sex                   0\n",
       "blood_sugar          27\n",
       "conductivity          0\n",
       "pH                    0\n",
       "dtype: int64"
      ]
     },
     "execution_count": 24,
     "metadata": {},
     "output_type": "execute_result"
    }
   ],
   "source": [
    "draft1.isna().sum()"
   ]
  },
  {
   "cell_type": "markdown",
   "id": "924aef24-27ea-4ab9-aaf4-c53a059c7383",
   "metadata": {},
   "source": [
    "---\n",
    "\n",
    "Light-Dark Box\n",
    "\n",
    "---"
   ]
  },
  {
   "cell_type": "code",
   "execution_count": 25,
   "id": "55c7e366-306e-4789-b748-f94b1a557301",
   "metadata": {},
   "outputs": [
    {
     "data": {
      "text/plain": [
       "91    1BT24h01015\n",
       "Name: fish_id, dtype: object"
      ]
     },
     "execution_count": 25,
     "metadata": {},
     "output_type": "execute_result"
    }
   ],
   "source": [
    "draft1.loc[draft1.latency.isna()].fish_id # fish jumped from central compartment to the bright side before acclimatation ended\n",
    "# might as well consider dropping"
   ]
  },
  {
   "cell_type": "code",
   "execution_count": 26,
   "id": "7bb1d324-de8c-4fe7-b2c0-cbb77c72bd7b",
   "metadata": {},
   "outputs": [],
   "source": [
    "draft1 = drop_fish(draft1, '1BT24h01015')"
   ]
  },
  {
   "cell_type": "code",
   "execution_count": 27,
   "id": "0c74139a-4369-49c8-8747-3cf7d8bdf0cc",
   "metadata": {},
   "outputs": [
    {
     "data": {
      "text/plain": [
       "29    1BT01h00516\n",
       "Name: fish_id, dtype: object"
      ]
     },
     "execution_count": 27,
     "metadata": {},
     "output_type": "execute_result"
    }
   ],
   "source": [
    "draft1.loc[draft1.first_choice.isna()].fish_id # fish remained the whole test in the central compartment\n",
    "# might as well create a third value for fishes that didn't choose between bright or dark"
   ]
  },
  {
   "cell_type": "code",
   "execution_count": 28,
   "id": "c59beaec-7287-4ebb-91a8-4b547c03673e",
   "metadata": {},
   "outputs": [
    {
     "data": {
      "text/plain": [
       "73    1BT24h00513\n",
       "Name: fish_id, dtype: object"
      ]
     },
     "execution_count": 28,
     "metadata": {},
     "output_type": "execute_result"
    }
   ],
   "source": [
    "draft1.loc[draft1.num_changes.isna()].fish_id # died during test, it can be dropped! (1BT24h00513)"
   ]
  },
  {
   "cell_type": "code",
   "execution_count": 29,
   "id": "47d6e691-c1dd-4050-b627-784434d1e7bb",
   "metadata": {},
   "outputs": [],
   "source": [
    "draft1 = drop_fish(draft1, '1BT24h00513')"
   ]
  },
  {
   "cell_type": "code",
   "execution_count": 30,
   "id": "18129566-8b2a-4baa-b1af-271143843184",
   "metadata": {},
   "outputs": [
    {
     "data": {
      "text/plain": [
       "Series([], Name: fish_id, dtype: object)"
      ]
     },
     "execution_count": 30,
     "metadata": {},
     "output_type": "execute_result"
    }
   ],
   "source": [
    "draft1.loc[draft1.mtpc.isna()].fish_id\n",
    "# 1BT01hCTR10 went dark side and never changed\n",
    "# 1BT01h00508 went dark side and never changed\n",
    "# 1BT01h00509 went dark side and never changed\n",
    "# 1BT01h00516 didn't choose between dark of bright environment\n",
    "# 1BT01h01007 went dark side and never changed\n",
    "# 1BT01h01012 went dark side and never changed\n",
    "# 1BT96hCTR10 went dark side and never changed"
   ]
  },
  {
   "cell_type": "markdown",
   "id": "c115cefb-a9ba-4b62-98b2-808806522e92",
   "metadata": {},
   "source": [
    "---\n",
    "\n",
    "Novel Tank\n",
    "\n",
    "---"
   ]
  },
  {
   "cell_type": "code",
   "execution_count": 31,
   "id": "f06d20ec-6236-416b-be90-79da1e594e05",
   "metadata": {},
   "outputs": [
    {
     "data": {
      "text/plain": [
       "21    1BT01h00508\n",
       "22    1BT01h00509\n",
       "23    1BT01h00510\n",
       "41    1BT01h01012\n",
       "Name: fish_id, dtype: object"
      ]
     },
     "execution_count": 31,
     "metadata": {},
     "output_type": "execute_result"
    }
   ],
   "source": [
    "draft1.loc[draft1.vel_bottom.isna()].fish_id\n",
    "# 1BT01h00508 freezing\n",
    "# 1BT01h00509 freezing\n",
    "# 1BT01h00510 freezing\n",
    "# 1BT01h01012 freezing"
   ]
  },
  {
   "cell_type": "code",
   "execution_count": 32,
   "id": "dd048409-a7bd-4b55-8833-6171f578ee1d",
   "metadata": {},
   "outputs": [],
   "source": [
    "draft1.vel_bottom = draft1.vel_bottom.fillna(0) # correctly representing freezing as velocity 0"
   ]
  },
  {
   "cell_type": "code",
   "execution_count": 33,
   "id": "04bd1ee9-0d8c-4263-a281-139f3017ba8e",
   "metadata": {},
   "outputs": [
    {
     "data": {
      "text/plain": [
       "1     1BT01hCTR02\n",
       "11    1BT01hCTR12\n",
       "21    1BT01h00508\n",
       "22    1BT01h00509\n",
       "23    1BT01h00510\n",
       "34    1BT01h01005\n",
       "37    1BT01h01008\n",
       "41    1BT01h01012\n",
       "48    1BT24hCTR03\n",
       "83    1BT24h01007\n",
       "Name: fish_id, dtype: object"
      ]
     },
     "execution_count": 33,
     "metadata": {},
     "output_type": "execute_result"
    }
   ],
   "source": [
    "draft1.loc[draft1.vel_upper.isna()].fish_id\n",
    "# here we want to keep the NaNs as they represent non-exploration of upper portion"
   ]
  },
  {
   "cell_type": "markdown",
   "id": "813dc517-8756-4ac6-9cdd-b39ff6e828e6",
   "metadata": {},
   "source": [
    "---\n",
    "\n",
    "Biometrics\n",
    "\n",
    "---"
   ]
  },
  {
   "cell_type": "code",
   "execution_count": 34,
   "id": "37e01a7f-70ab-48e6-80b6-e5665c006eae",
   "metadata": {},
   "outputs": [
    {
     "data": {
      "text/plain": [
       "25"
      ]
     },
     "execution_count": 34,
     "metadata": {},
     "output_type": "execute_result"
    }
   ],
   "source": [
    "draft1.blood_sugar.isna().sum()\n",
    "# might as well fill in with means (based on group)"
   ]
  },
  {
   "cell_type": "code",
   "execution_count": 35,
   "id": "564f0458-18d1-46bb-b169-0de6928d25f8",
   "metadata": {},
   "outputs": [],
   "source": [
    "draft1.blood_sugar = draft1.groupby('group')['blood_sugar'].transform(lambda x: x.fillna(x.mean()))"
   ]
  },
  {
   "cell_type": "markdown",
   "id": "b703a07e-3a11-4bbb-b866-c5b69e868727",
   "metadata": {},
   "source": [
    "Remaning NaNs for this subset are actually data, meaning inanimity, which is useful and should be dealt differently depending on the question we are asking. Therefore, I will leave them."
   ]
  },
  {
   "cell_type": "code",
   "execution_count": 36,
   "id": "533a8619-1eae-4433-995e-76fa298062f1",
   "metadata": {},
   "outputs": [],
   "source": [
    "draft1.to_csv('battery_suite_1.csv', index=True) # I want to keep the original index"
   ]
  },
  {
   "cell_type": "markdown",
   "id": "03c3c857-7728-41b6-860d-630cdf340d71",
   "metadata": {},
   "source": [
    "### Battery Suite 2"
   ]
  },
  {
   "cell_type": "code",
   "execution_count": 37,
   "id": "43827b96-bafa-423e-bab1-aa129d9d9fe7",
   "metadata": {},
   "outputs": [
    {
     "data": {
      "text/plain": [
       "fish_id           0\n",
       "group             0\n",
       "treatment         0\n",
       "exposure          0\n",
       "datetime          0\n",
       "latency           0\n",
       "first_choice      1\n",
       "num_changes       1\n",
       "time_bright       1\n",
       "mtpc              1\n",
       "mov_bottom        1\n",
       "mov_upper         1\n",
       "mov_total         1\n",
       "dist_bottom       1\n",
       "dist_upper        1\n",
       "dist_total        1\n",
       "vel_bottom       10\n",
       "vel_upper        17\n",
       "vel_mean          0\n",
       "lt                2\n",
       "ls                2\n",
       "wt                2\n",
       "Kc                2\n",
       "sex               0\n",
       "blood_sugar     103\n",
       "conductivity     32\n",
       "pH               32\n",
       "dtype: int64"
      ]
     },
     "execution_count": 37,
     "metadata": {},
     "output_type": "execute_result"
    }
   ],
   "source": [
    "draft2.isna().sum()"
   ]
  },
  {
   "cell_type": "markdown",
   "id": "be9bbb73-3bd3-4360-9c7f-2ed933836753",
   "metadata": {},
   "source": [
    "---\n",
    "\n",
    "Light-Dark Box\n",
    "\n",
    "---"
   ]
  },
  {
   "cell_type": "code",
   "execution_count": 38,
   "id": "b894bfea-ac6e-42fc-880b-0376e189d8b9",
   "metadata": {},
   "outputs": [
    {
     "data": {
      "text/plain": [
       "275    2BT96h01014\n",
       "Name: fish_id, dtype: object"
      ]
     },
     "execution_count": 38,
     "metadata": {},
     "output_type": "execute_result"
    }
   ],
   "source": [
    "draft2.loc[draft2.first_choice.isna()].fish_id\n",
    "# 2BT96h01014 fish never made a choice"
   ]
  },
  {
   "cell_type": "code",
   "execution_count": 39,
   "id": "9354bc2e-6227-4abe-8fd2-d52a436da356",
   "metadata": {},
   "outputs": [
    {
     "data": {
      "text/plain": [
       "275    2BT96h01014\n",
       "Name: fish_id, dtype: object"
      ]
     },
     "execution_count": 39,
     "metadata": {},
     "output_type": "execute_result"
    }
   ],
   "source": [
    "draft2.loc[draft2.num_changes.isna()].fish_id \n",
    "# fish never made a choice"
   ]
  },
  {
   "cell_type": "code",
   "execution_count": 40,
   "id": "2d8b3c02-1b02-4ff5-a613-95a57f5ddc85",
   "metadata": {},
   "outputs": [
    {
     "data": {
      "text/plain": [
       "275    2BT96h01014\n",
       "Name: fish_id, dtype: object"
      ]
     },
     "execution_count": 40,
     "metadata": {},
     "output_type": "execute_result"
    }
   ],
   "source": [
    "draft2.loc[draft2.time_bright.isna()].fish_id\n",
    "# fish never made a choice"
   ]
  },
  {
   "cell_type": "code",
   "execution_count": 41,
   "id": "51c7e1ad-3178-468a-b391-b93367ce5db1",
   "metadata": {},
   "outputs": [],
   "source": [
    "draft2.time_bright = draft2.time_bright.fillna(0)"
   ]
  },
  {
   "cell_type": "code",
   "execution_count": 42,
   "id": "b75291e5-816f-4823-a819-2328c140abf7",
   "metadata": {},
   "outputs": [
    {
     "data": {
      "text/plain": [
       "275    2BT96h01014\n",
       "Name: fish_id, dtype: object"
      ]
     },
     "execution_count": 42,
     "metadata": {},
     "output_type": "execute_result"
    }
   ],
   "source": [
    "draft2.loc[draft2.mtpc.isna()].fish_id\n",
    "# 2BT01h00502 instantly went darkside and never came back\n",
    "# 2BT01h00504 instantly went darkside and never came back\n",
    "# 2BT01h01007 instantly went darkside and never came back\n",
    "# 2BT24hCTR02 instantly went darkside and never came back\n",
    "# 2BT24h00506 instantly went darkside and never came back\n",
    "# 2BT24h00511 instantly went darkside and never came back\n",
    "# 2BT24h00513 instantly went darkside and never came back\n",
    "# 2BT96h01014 never made a choice"
   ]
  },
  {
   "cell_type": "markdown",
   "id": "3de66cfe-65bb-4466-aa38-5eebd96435ac",
   "metadata": {},
   "source": [
    "---\n",
    "\n",
    "Novel Tank\n",
    "\n",
    "---"
   ]
  },
  {
   "cell_type": "code",
   "execution_count": 43,
   "id": "206ec3e7-4a43-4dec-bae5-85e6fba729fc",
   "metadata": {},
   "outputs": [
    {
     "data": {
      "text/html": [
       "<div>\n",
       "<style scoped>\n",
       "    .dataframe tbody tr th:only-of-type {\n",
       "        vertical-align: middle;\n",
       "    }\n",
       "\n",
       "    .dataframe tbody tr th {\n",
       "        vertical-align: top;\n",
       "    }\n",
       "\n",
       "    .dataframe thead th {\n",
       "        text-align: right;\n",
       "    }\n",
       "</style>\n",
       "<table border=\"1\" class=\"dataframe\">\n",
       "  <thead>\n",
       "    <tr style=\"text-align: right;\">\n",
       "      <th></th>\n",
       "      <th>fish_id</th>\n",
       "      <th>group</th>\n",
       "      <th>treatment</th>\n",
       "      <th>exposure</th>\n",
       "      <th>datetime</th>\n",
       "      <th>latency</th>\n",
       "      <th>first_choice</th>\n",
       "      <th>num_changes</th>\n",
       "      <th>time_bright</th>\n",
       "      <th>mtpc</th>\n",
       "      <th>mov_bottom</th>\n",
       "      <th>mov_upper</th>\n",
       "      <th>mov_total</th>\n",
       "      <th>dist_bottom</th>\n",
       "      <th>dist_upper</th>\n",
       "      <th>dist_total</th>\n",
       "      <th>vel_bottom</th>\n",
       "      <th>vel_upper</th>\n",
       "      <th>vel_mean</th>\n",
       "      <th>lt</th>\n",
       "      <th>ls</th>\n",
       "      <th>wt</th>\n",
       "      <th>Kc</th>\n",
       "      <th>sex</th>\n",
       "      <th>blood_sugar</th>\n",
       "      <th>conductivity</th>\n",
       "      <th>pH</th>\n",
       "    </tr>\n",
       "  </thead>\n",
       "  <tbody>\n",
       "    <tr>\n",
       "      <th>202</th>\n",
       "      <td>2BT24h00501</td>\n",
       "      <td>24h 0.5%</td>\n",
       "      <td>0.5</td>\n",
       "      <td>24</td>\n",
       "      <td>2021-08-11 10:00:30</td>\n",
       "      <td>13.0</td>\n",
       "      <td>bright</td>\n",
       "      <td>16.0</td>\n",
       "      <td>444.0</td>\n",
       "      <td>27.75</td>\n",
       "      <td>NaN</td>\n",
       "      <td>NaN</td>\n",
       "      <td>NaN</td>\n",
       "      <td>NaN</td>\n",
       "      <td>NaN</td>\n",
       "      <td>NaN</td>\n",
       "      <td>NaN</td>\n",
       "      <td>NaN</td>\n",
       "      <td>0.0</td>\n",
       "      <td>2.5</td>\n",
       "      <td>2.0</td>\n",
       "      <td>0.17</td>\n",
       "      <td>2.125</td>\n",
       "      <td>male</td>\n",
       "      <td>NaN</td>\n",
       "      <td>110.0</td>\n",
       "      <td>7.5</td>\n",
       "    </tr>\n",
       "  </tbody>\n",
       "</table>\n",
       "</div>"
      ],
      "text/plain": [
       "         fish_id     group  treatment  exposure             datetime  latency  \\\n",
       "202  2BT24h00501  24h 0.5%        0.5        24  2021-08-11 10:00:30     13.0   \n",
       "\n",
       "    first_choice  num_changes  time_bright   mtpc  mov_bottom  mov_upper  \\\n",
       "202       bright         16.0        444.0  27.75         NaN        NaN   \n",
       "\n",
       "     mov_total  dist_bottom  dist_upper  dist_total  vel_bottom  vel_upper  \\\n",
       "202        NaN          NaN         NaN         NaN         NaN        NaN   \n",
       "\n",
       "     vel_mean   lt   ls    wt     Kc   sex  blood_sugar  conductivity   pH  \n",
       "202       0.0  2.5  2.0  0.17  2.125  male          NaN         110.0  7.5  "
      ]
     },
     "execution_count": 43,
     "metadata": {},
     "output_type": "execute_result"
    }
   ],
   "source": [
    "draft2.loc[draft2.mov_bottom.isna()]\n",
    "# data on this fish is curiously missing, there are no notes on this. We might need to drop it\n",
    "# since there is data recorded for other tests, we might as well fill with mean values)))))))))"
   ]
  },
  {
   "cell_type": "code",
   "execution_count": 44,
   "id": "843e52ae-e57d-46ec-963f-b2e10551d1ef",
   "metadata": {},
   "outputs": [
    {
     "data": {
      "text/plain": [
       "202    2BT24h00501\n",
       "204    2BT24h00503\n",
       "205    2BT24h00504\n",
       "206    2BT24h00505\n",
       "210    2BT24h00509\n",
       "211    2BT24h00510\n",
       "216    2BT24h00515\n",
       "217    2BT24h00516\n",
       "265    2BT96h01004\n",
       "275    2BT96h01014\n",
       "Name: fish_id, dtype: object"
      ]
     },
     "execution_count": 44,
     "metadata": {},
     "output_type": "execute_result"
    }
   ],
   "source": [
    "draft2.loc[draft2.vel_bottom.isna()].fish_id\n",
    "# all fishes here explored just the upper portion."
   ]
  },
  {
   "cell_type": "code",
   "execution_count": 45,
   "id": "2889b4f1-97d5-4819-955a-9f9dbf511d5d",
   "metadata": {},
   "outputs": [
    {
     "data": {
      "text/plain": [
       "156    2BT01h00503\n",
       "161    2BT01h00508\n",
       "163    2BT01h00510\n",
       "164    2BT01h00511\n",
       "166    2BT01h00513\n",
       "169    2BT01h00516\n",
       "172    2BT01h01003\n",
       "176    2BT01h01007\n",
       "177    2BT01h01008\n",
       "178    2BT01h01009\n",
       "180    2BT01h01011\n",
       "186    2BT24hCTR01\n",
       "202    2BT24h00501\n",
       "204    2BT24h00503\n",
       "226    2BT24h01009\n",
       "229    2BT24h01012\n",
       "275    2BT96h01014\n",
       "Name: fish_id, dtype: object"
      ]
     },
     "execution_count": 45,
     "metadata": {},
     "output_type": "execute_result"
    }
   ],
   "source": [
    "draft2.loc[draft2.vel_upper.isna()].fish_id\n",
    "# all fish here but one explored just bottom portion"
   ]
  },
  {
   "cell_type": "markdown",
   "id": "d3760d88-8fb0-4c87-a1fa-f7acd0e6fb69",
   "metadata": {},
   "source": [
    "---\n",
    "\n",
    "Biometrics\n",
    "\n",
    "---"
   ]
  },
  {
   "cell_type": "code",
   "execution_count": 46,
   "id": "5c3c8c7c-57dc-4f9c-ae2e-5c7f70c8c8df",
   "metadata": {},
   "outputs": [],
   "source": [
    "draft2['lt'] = draft2['lt'].fillna(draft2['lt'].mean())"
   ]
  },
  {
   "cell_type": "code",
   "execution_count": 47,
   "id": "75c2b76d-8607-47d5-afbc-faf1e94c8b9f",
   "metadata": {},
   "outputs": [],
   "source": [
    "draft2.ls = draft2['ls'].fillna(draft2['ls'].mean())"
   ]
  },
  {
   "cell_type": "code",
   "execution_count": 48,
   "id": "d8006be9-752f-4aab-a8c4-a8ed2f801e93",
   "metadata": {},
   "outputs": [],
   "source": [
    "draft2.wt = draft2['wt'].fillna(draft2['wt'].mean())"
   ]
  },
  {
   "cell_type": "code",
   "execution_count": 49,
   "id": "4db66b4c-7c25-4649-9f06-ca02c3235fbb",
   "metadata": {},
   "outputs": [],
   "source": [
    "draft2['Kc'] = (draft2['wt'] / (draft2['ls'] ** 3)) * 100"
   ]
  },
  {
   "cell_type": "code",
   "execution_count": 50,
   "id": "7ab2e46e-da68-494e-8572-15fe474a611a",
   "metadata": {},
   "outputs": [],
   "source": [
    "draft2.blood_sugar = draft2.groupby('group')['blood_sugar'].transform(lambda x: x.fillna(x.mean()))"
   ]
  },
  {
   "cell_type": "code",
   "execution_count": 51,
   "id": "ae3fa6b6-d056-488f-a773-229272c5241c",
   "metadata": {},
   "outputs": [],
   "source": [
    "draft2.to_csv('battery_suite_2.csv', index=True)"
   ]
  },
  {
   "cell_type": "markdown",
   "id": "a86c5e8b-86f1-4cc6-912d-da72416e0cf8",
   "metadata": {},
   "source": [
    "### Battery Suite 3"
   ]
  },
  {
   "cell_type": "code",
   "execution_count": 52,
   "id": "080dd4d6-6ee6-40f9-a9d6-87b42041562f",
   "metadata": {},
   "outputs": [
    {
     "data": {
      "text/plain": [
       "fish_id               0\n",
       "group                 0\n",
       "treatment             0\n",
       "exposure              0\n",
       "attempts              1\n",
       "last_flux             1\n",
       "time_in_last_flux     1\n",
       "resistance_index      1\n",
       "lt                    1\n",
       "ls                    1\n",
       "wt                    1\n",
       "Kc                    1\n",
       "sex                   0\n",
       "blood_sugar          63\n",
       "dtype: int64"
      ]
     },
     "execution_count": 52,
     "metadata": {},
     "output_type": "execute_result"
    }
   ],
   "source": [
    "draft3.isna().sum()"
   ]
  },
  {
   "cell_type": "code",
   "execution_count": 53,
   "id": "4532a401-0baf-4347-8f41-e09779c09678",
   "metadata": {},
   "outputs": [
    {
     "data": {
      "text/html": [
       "<div>\n",
       "<style scoped>\n",
       "    .dataframe tbody tr th:only-of-type {\n",
       "        vertical-align: middle;\n",
       "    }\n",
       "\n",
       "    .dataframe tbody tr th {\n",
       "        vertical-align: top;\n",
       "    }\n",
       "\n",
       "    .dataframe thead th {\n",
       "        text-align: right;\n",
       "    }\n",
       "</style>\n",
       "<table border=\"1\" class=\"dataframe\">\n",
       "  <thead>\n",
       "    <tr style=\"text-align: right;\">\n",
       "      <th></th>\n",
       "      <th>fish_id</th>\n",
       "      <th>group</th>\n",
       "      <th>treatment</th>\n",
       "      <th>exposure</th>\n",
       "      <th>attempts</th>\n",
       "      <th>last_flux</th>\n",
       "      <th>time_in_last_flux</th>\n",
       "      <th>resistance_index</th>\n",
       "      <th>lt</th>\n",
       "      <th>ls</th>\n",
       "      <th>wt</th>\n",
       "      <th>Kc</th>\n",
       "      <th>sex</th>\n",
       "      <th>blood_sugar</th>\n",
       "    </tr>\n",
       "  </thead>\n",
       "  <tbody>\n",
       "    <tr>\n",
       "      <th>324</th>\n",
       "      <td>3BT01h01015</td>\n",
       "      <td>01h 1.0%</td>\n",
       "      <td>1.0</td>\n",
       "      <td>1</td>\n",
       "      <td>NaN</td>\n",
       "      <td>NaN</td>\n",
       "      <td>NaN</td>\n",
       "      <td>NaN</td>\n",
       "      <td>NaN</td>\n",
       "      <td>NaN</td>\n",
       "      <td>NaN</td>\n",
       "      <td>NaN</td>\n",
       "      <td>unidentified</td>\n",
       "      <td>NaN</td>\n",
       "    </tr>\n",
       "  </tbody>\n",
       "</table>\n",
       "</div>"
      ],
      "text/plain": [
       "         fish_id     group  treatment  exposure  attempts  last_flux  \\\n",
       "324  3BT01h01015  01h 1.0%        1.0         1       NaN        NaN   \n",
       "\n",
       "     time_in_last_flux  resistance_index  lt  ls  wt  Kc           sex  \\\n",
       "324                NaN               NaN NaN NaN NaN NaN  unidentified   \n",
       "\n",
       "     blood_sugar  \n",
       "324          NaN  "
      ]
     },
     "execution_count": 53,
     "metadata": {},
     "output_type": "execute_result"
    }
   ],
   "source": [
    "draft3.loc[draft3.attempts.isna()]"
   ]
  },
  {
   "cell_type": "code",
   "execution_count": 54,
   "id": "ed452157-750c-43b2-97be-d0e36f951e4c",
   "metadata": {},
   "outputs": [],
   "source": [
    "draft3 = drop_fish(draft3, '3BT01h01015')"
   ]
  },
  {
   "cell_type": "code",
   "execution_count": 55,
   "id": "bd8d0563-fd0d-41ee-9ac0-1203182a94f1",
   "metadata": {},
   "outputs": [],
   "source": [
    "draft3.blood_sugar = draft3.groupby('group')['blood_sugar'].transform(lambda x: x.fillna(x.mean()))"
   ]
  },
  {
   "cell_type": "code",
   "execution_count": 56,
   "id": "02d62fb9-ca6a-4374-ae78-bed53aa81d96",
   "metadata": {},
   "outputs": [],
   "source": [
    "draft3.to_csv('battery_suite_3.csv', index=True)"
   ]
  },
  {
   "cell_type": "code",
   "execution_count": null,
   "id": "6a8b58b5-3a03-4a0b-af20-511c4fdefdfe",
   "metadata": {},
   "outputs": [],
   "source": []
  }
 ],
 "metadata": {
  "kernelspec": {
   "display_name": "Python 3 (ipykernel)",
   "language": "python",
   "name": "python3"
  },
  "language_info": {
   "codemirror_mode": {
    "name": "ipython",
    "version": 3
   },
   "file_extension": ".py",
   "mimetype": "text/x-python",
   "name": "python",
   "nbconvert_exporter": "python",
   "pygments_lexer": "ipython3",
   "version": "3.12.4"
  }
 },
 "nbformat": 4,
 "nbformat_minor": 5
}
